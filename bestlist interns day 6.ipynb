{
 "cells": [
  {
   "cell_type": "markdown",
   "metadata": {},
   "source": [
    "# Task-6"
   ]
  },
  {
   "cell_type": "code",
   "execution_count": 1,
   "metadata": {},
   "outputs": [
    {
     "name": "stdout",
     "output_type": "stream",
     "text": [
      "The original list is : [4, 5, 6, 3, 9]\n",
      "The list after adding K to each element : [6, 7, 8, 5, 11]\n"
     ]
    }
   ],
   "source": [
    "test_list = [4, 5, 6, 3, 9] \n",
    "  \n",
    "# printing original list \n",
    "print (\"The original list is : \" + str(test_list)) \n",
    "  \n",
    "# initializing K \n",
    "  \n",
    "# using list comprehension \n",
    "k=2\n",
    "# adding K to each element \n",
    "res = [x + k for x in test_list] \n",
    "  \n",
    "# printing result  \n",
    "print (\"The list after adding K to each element : \" +  str(res))"
   ]
  },
  {
   "cell_type": "code",
   "execution_count": 18,
   "metadata": {},
   "outputs": [
    {
     "name": "stdout",
     "output_type": "stream",
     "text": [
      "54321\n",
      "4321\n",
      "321\n",
      "21\n",
      "1\n"
     ]
    }
   ],
   "source": [
    "for i in range(5, 0, -1):\n",
    "    for j in range(i, 0, -1):\n",
    "        print(j, end=\"\")\n",
    "    print()"
   ]
  },
  {
   "cell_type": "code",
   "execution_count": 14,
   "metadata": {},
   "outputs": [
    {
     "name": "stdout",
     "output_type": "stream",
     "text": [
      "89\n"
     ]
    }
   ],
   "source": [
    "# Function for nth Fibonacci number\n",
    " \n",
    "def Fibonacci(n):\n",
    "    if n<=0:\n",
    "        print(\"Incorrect input\")\n",
    "    # First Fibonacci number is 0\n",
    "    elif n==1:\n",
    "        return 0\n",
    "    # Second Fibonacci number is 1\n",
    "    elif n==2:\n",
    "        return 1\n",
    "    else:\n",
    "        return Fibonacci(n-1)+Fibonacci(n-2)\n",
    " \n",
    "\n",
    "# Driver Program\n",
    " \n",
    "print(Fibonacci(12))\n",
    " "
   ]
  },
  {
   "cell_type": "code",
   "execution_count": 20,
   "metadata": {},
   "outputs": [
    {
     "name": "stdout",
     "output_type": "stream",
     "text": [
      "2000 it is not an Armstrong number\n"
     ]
    }
   ],
   "source": [
    "num = 2000\n",
    "order = len(str(num))\n",
    "sum = 0\n",
    "temp = num\n",
    "while temp > 0:\n",
    "   digit = temp % 10\n",
    "   sum += digit * order\n",
    "   temp //= 10\n",
    "if num == sum:\n",
    "   print(num,\" it is an Armstrong number\")\n",
    "else:\n",
    "   print(num,\"it is not an Armstrong number\")"
   ]
  },
  {
   "cell_type": "code",
   "execution_count": 23,
   "metadata": {},
   "outputs": [
    {
     "name": "stdout",
     "output_type": "stream",
     "text": [
      "9 x 1 = 9\n",
      "9 x 2 = 18\n",
      "9 x 3 = 27\n",
      "9 x 4 = 36\n",
      "9 x 5 = 45\n",
      "9 x 6 = 54\n",
      "9 x 7 = 63\n",
      "9 x 8 = 72\n",
      "9 x 9 = 81\n",
      "9 x 10 = 90\n"
     ]
    }
   ],
   "source": [
    "num = 9\n",
    "for i in range(1, 11):\n",
    "   print(num, 'x', i, '=', num*i)"
   ]
  },
  {
   "cell_type": "code",
   "execution_count": 21,
   "metadata": {},
   "outputs": [
    {
     "name": "stdout",
     "output_type": "stream",
     "text": [
      "Enter a number: 6\n",
      "Positive number\n"
     ]
    }
   ],
   "source": [
    "num = float(input(\"Enter a number: \"))\n",
    "if num > 0:\n",
    "   print(\"Positive number\")\n",
    "elif num == 0:\n",
    "   print(\"Zero\")\n",
    "else:\n",
    "   print(\"Negative number\")"
   ]
  },
  {
   "cell_type": "code",
   "execution_count": 22,
   "metadata": {},
   "outputs": [
    {
     "name": "stdout",
     "output_type": "stream",
     "text": [
      "years =  0 \n",
      "weeks =  28 \n",
      "days =  4\n"
     ]
    }
   ],
   "source": [
    "DAYS_IN_WEEK = 7\n",
    "  \n",
    "# Function to find  \n",
    "# year, week, days  \n",
    "def find( number_of_days ): \n",
    "  \n",
    "    # Assume that years is \n",
    "    # of 365 days \n",
    "    year = int(number_of_days / 365) \n",
    "    week = int((number_of_days % 365) / \n",
    "                DAYS_IN_WEEK) \n",
    "    days = (number_of_days % 365) % DAYS_IN_WEEK \n",
    "      \n",
    "    print(\"years = \",year, \n",
    "          \"\\nweeks = \",week, \n",
    "          \"\\ndays = \",days) \n",
    "      \n",
    "# Driver Code \n",
    "number_of_days = 200\n",
    "find(number_of_days) "
   ]
  },
  {
   "cell_type": "code",
   "execution_count": 24,
   "metadata": {},
   "outputs": [
    {
     "name": "stdout",
     "output_type": "stream",
     "text": [
      "0.8660254037844386\n",
      "1.7320508075688767\n",
      "0.8660254037844387\n"
     ]
    }
   ],
   "source": [
    "import math\n",
    "\n",
    "print(math.sin(math.pi/3))\n",
    "print(math.tan(math.pi/3))\n",
    "print(math.cos(math.pi/6))"
   ]
  },
  {
   "cell_type": "code",
   "execution_count": 25,
   "metadata": {},
   "outputs": [
    {
     "name": "stdout",
     "output_type": "stream",
     "text": [
      "Calculator\n",
      "1.Add\n",
      "2.Sub\n",
      "3.multi\n",
      "4.division\n",
      "enter choice(1-4):3\n",
      "enter A:2\n",
      "enter B:3\n",
      "product= 6\n"
     ]
    }
   ],
   "source": [
    "print(\"Calculator\")\n",
    "print(\"1.Add\")\n",
    "print(\"2.Sub\")\n",
    "print(\"3.multi\")\n",
    "print(\"4.division\")\n",
    "\n",
    "ch=int(input(\"enter choice(1-4):\"))\n",
    "\n",
    "if ch==1:\n",
    "    a=int(input(\"enter A:\"))\n",
    "    b=int(input(\"enter B:\"))\n",
    "    c=a+b\n",
    "    print(\"sum=\",c)\n",
    "elif ch==2:\n",
    "    a=int(input(\"enter A:\"))\n",
    "    b=int(input(\"enter B:\"))\n",
    "    c=a-b\n",
    "    print(\"diff=\",c)\n",
    "elif ch==3:\n",
    "    a=int(input(\"enter A:\"))\n",
    "    b=int(input(\"enter B:\"))\n",
    "    c=a*b\n",
    "    print(\"product=\",c)\n",
    "elif ch==4:\n",
    "    a=int(input(\"enter A:\"))\n",
    "    b=int(input(\"enter B:\"))\n",
    "    c=a/b\n",
    "    print(\"quot=\",c)\n",
    "else:\n",
    "    print(\"Invalid choice\")\n",
    "    \n",
    "    "
   ]
  },
  {
   "cell_type": "markdown",
   "metadata": {},
   "source": []
  }
 ],
 "metadata": {
  "kernelspec": {
   "display_name": "Python 3",
   "language": "python",
   "name": "python3"
  },
  "language_info": {
   "codemirror_mode": {
    "name": "ipython",
    "version": 3
   },
   "file_extension": ".py",
   "mimetype": "text/x-python",
   "name": "python",
   "nbconvert_exporter": "python",
   "pygments_lexer": "ipython3",
   "version": "3.8.5"
  }
 },
 "nbformat": 4,
 "nbformat_minor": 4
}
